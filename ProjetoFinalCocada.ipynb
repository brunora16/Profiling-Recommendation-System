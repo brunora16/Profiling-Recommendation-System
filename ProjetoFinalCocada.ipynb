{
  "nbformat": 4,
  "nbformat_minor": 0,
  "metadata": {
    "colab": {
      "provenance": []
    },
    "kernelspec": {
      "name": "python3",
      "display_name": "Python 3"
    },
    "language_info": {
      "name": "python"
    }
  },
  "cells": [
    {
      "cell_type": "markdown",
      "source": [
        "#Relatório e Projeto de COCADA\n",
        "\n",
        "A premissa do meu trabalho é coletar os dados de avaliações de filmes de um perfil da plataforma Letterboxd que for colocado no programa, ou então coletar avaliações manualmente, caso você não tenha um perfil, e com base nessas avaliações montar a equação Ax = b, sendo a matriz A com linhas sendo filmes e colunas sendo gêneros, o vetor b sendo a avaliação do usuário para cada filme, e x resultará no quanto o usuário gosta de cada gênero relativo a sua avaliações, pesando também a avaliação geral do mesmo, o que será mostrado na tela. Após isso, essa matriz x será usada para recomendar 4 filmes que o usuário ainda não avaliou, e que tenham seu rating geral maior que 4.0, e que ele possivelmente gostará utilizando o método de mínimos quadrados. Utilizarei um dataset contendo filmes e seus respectivos gêneros para isso, além dos dados de avaliações do usuário coletados do Letterboxd, utilizando a técnica de Web Scraping."
      ],
      "metadata": {
        "id": "5H2E2UdRXZ2T"
      }
    },
    {
      "cell_type": "markdown",
      "source": [
        "#Célula 0\n",
        "Esta célula instala as bibliotecas necessárias para o projeto: `requests`, `beautifulsoup4`, `pandas`, `numpy`, `matplotlib` e `scipy`.\n",
        "Elas são fundamentais para realizar o scraping dos dados da web, manipulação de tabelas, operações numéricas vetoriais, visualização gráfica e resolução de sistemas de equações com restrições.\n",
        "Pesquisei a função de cada uma dessas bibliotecas para tentar aplicá-las corretamente neste projeto."
      ],
      "metadata": {
        "id": "cm0tJ11l_uSY"
      }
    },
    {
      "cell_type": "code",
      "source": [
        "# Célula 0: Instalação das dependencias\n",
        "\n",
        "!pip install requests beautifulsoup4 pandas numpy matplotlib scipy"
      ],
      "metadata": {
        "id": "OREfDViZXemZ"
      },
      "execution_count": null,
      "outputs": []
    },
    {
      "cell_type": "markdown",
      "source": [
        "#Célula 1\n",
        "Aqui fiz os imports necessários para rodar o sistema. São trazidas funções para:\n",
        "- acessar páginas da internet (`requests`);\n",
        "- extrair informações do HTML (`BeautifulSoup`);\n",
        "- trabalhar com dados tabulares (`pandas`);\n",
        "- realizar operações matriciais e numéricas (`numpy`);\n",
        "- interpretar strings como listas (`ast`);\n",
        "- pausar requisições para não sobrecarregar o servidor (`time`);\n",
        "- exibir gráficos com os resultados (`matplotlib`);\n",
        "- resolver sistemas lineares com restrições, usando mínimos quadrados (`scipy.optimize.lsq_linear`).\n",
        "\n",
        "Cada biblioteca foi selecionada com base em pesquisas."
      ],
      "metadata": {
        "id": "atKrng5r_2d9"
      }
    },
    {
      "cell_type": "code",
      "source": [
        "# Célula 1: Imports e configurações iniciais\n",
        "\n",
        "import requests\n",
        "from bs4 import BeautifulSoup\n",
        "import pandas as pd\n",
        "import numpy as np\n",
        "import ast\n",
        "import time\n",
        "import matplotlib.pyplot as plt\n",
        "from scipy.optimize import lsq_linear\n",
        "\n",
        "\n",
        "# Cabeçalhos para simular um navegador real\n",
        "headers = {\n",
        "    'user-agent': 'Mozilla/5.0 (Windows NT 10.0; Win64; x64) '\n",
        "                  'AppleWebKit/537.36 (KHTML, like Gecko) '\n",
        "                  'Chrome/91.0.4472.124 Safari/537.36'\n",
        "}"
      ],
      "metadata": {
        "id": "RUXrxV36cmxk"
      },
      "execution_count": null,
      "outputs": []
    },
    {
      "cell_type": "markdown",
      "source": [
        "#Célula 2\n",
        "Esta função coleta as avaliações de filmes de um usuário do Letterboxd, página por página.\n",
        "Foi necessário pegar a estrutura do HTML do site e utilizar o BeautifulSoup para acessar os dados corretamente.\n",
        "Ela retorna um DataFrame com os títulos dos filmes e suas respectivas notas (de 0.5 a 5).\n",
        "Esse processo envolve conceitos de **web scraping**, extração de dados estruturados e automação de coleta de dados.\n",
        "Eu peguei mais funções e coisas prontas para essa parte, já que não está relacionada com a matéria em si."
      ],
      "metadata": {
        "id": "DpjO-Lnr_3B8"
      }
    },
    {
      "cell_type": "code",
      "source": [
        "# Célula 2: Scraping das páginas de avaliações\n",
        "\n",
        "def get_user_ratings(username, pause=1.0):\n",
        "    ratings, page = [], 1\n",
        "    while True:\n",
        "        url = f\"https://letterboxd.com/{username}/films/by/rated-date/page/{page}/\"\n",
        "        try:\n",
        "            resp = requests.get(url, headers=headers, timeout=15)\n",
        "            resp.raise_for_status()\n",
        "        except requests.RequestException:\n",
        "            break\n",
        "        html = resp.text.lower()\n",
        "        if page == 1:\n",
        "            if 'this profile is private' in html:\n",
        "                print(f\"Perfil '{username}' é privado.\")\n",
        "                return pd.DataFrame(columns=['title','rating'])\n",
        "            if 'we can’t find the page' in html:\n",
        "                print(f\"Perfil '{username}' não encontrado.\")\n",
        "                return pd.DataFrame(columns=['title','rating'])\n",
        "        soup = BeautifulSoup(resp.text, 'html.parser')\n",
        "        posters = soup.select('li.poster-container')\n",
        "        if not posters:\n",
        "            break\n",
        "        for li in posters:\n",
        "            img = li.find('img', class_='image')\n",
        "            span = li.find('span', class_='rating')\n",
        "            if img and span:\n",
        "                title = img.get('alt','').strip()\n",
        "                tag = [c for c in span.get('class',[]) if c.startswith('rated-')]\n",
        "                if tag:\n",
        "                    ratings.append({'title': title,\n",
        "                                    'rating': int(tag[0].split('-')[1]) / 2.0})\n",
        "        if not (soup.select_one('a.next') or soup.select_one('li.paginate-page a[rel=\"next\"]')):\n",
        "            break\n",
        "        page += 1\n",
        "        time.sleep(pause)\n",
        "    print(f\"Total de {len(ratings)} avaliações coletadas de '{username}'\")\n",
        "    return pd.DataFrame(ratings)"
      ],
      "metadata": {
        "id": "8kub55U0c8xS"
      },
      "execution_count": null,
      "outputs": []
    },
    {
      "cell_type": "markdown",
      "source": [
        "#Célula 3\n",
        "Esta função permite que o usuário insira manualmente os títulos dos filmes e suas respectivas notas, caso não deseje usar os dados do Letterboxd, ou não tenha. Essa abordagem é importante para garantir que o sistema funcione mesmo sem conexão à internet ou para testes rápidos.\n",
        "A entrada é validada para garantir que as notas estejam no intervalo permitido (0.5 a 5.0). A manipulação do DataFrame ao final é feita com `pandas`."
      ],
      "metadata": {
        "id": "sDOV8Z4J_3nJ"
      }
    },
    {
      "cell_type": "code",
      "source": [
        "# Célula 3: Entrada manual de avaliações\n",
        "\n",
        "def get_manual_ratings():\n",
        "    entries = []\n",
        "    while True:\n",
        "        title = input(\"Título (ou 'fim'): \").strip()\n",
        "        if title.lower()=='fim': break\n",
        "        try:\n",
        "            rating = float(input(\"Nota (0.5-5.0): \").replace(',','.'))\n",
        "            if 0.5 <= rating <= 5.0:\n",
        "                entries.append({'title':title, 'rating':rating})\n",
        "            else:\n",
        "                print(\"Fora do intervalo.\")\n",
        "        except ValueError:\n",
        "            print(\"Inválido.\")\n",
        "    return pd.DataFrame(entries)\n"
      ],
      "metadata": {
        "id": "rrVqco8XdDCu"
      },
      "execution_count": null,
      "outputs": []
    },
    {
      "cell_type": "markdown",
      "source": [
        "#Célula 4\n",
        "Esta célula é responsável por carregar o banco de dados local com informações sobre filmes e seus respectivos gêneros. São feitas as seguintes etapas:\n",
        "- Leitura do arquivo CSV contendo os filmes, com `pandas.read_csv()`;\n",
        "- Renomeação das colunas para padronização;\n",
        "- Tratamento de valores ausentes em gêneros (substituindo por listas vazias);\n",
        "- Conversão das strings representando listas de gêneros usando `ast.literal_eval`.\n",
        "\n",
        "Esse tipo de pré-processamento foi ideal para garantir que os dados estejam em formato adequado para análises posteriores, como operações matriciais e filtragens."
      ],
      "metadata": {
        "id": "8IrbRCAz_4FV"
      }
    },
    {
      "cell_type": "code",
      "source": [
        "# Célula 4: Carrega o dataset\n",
        "\n",
        "def load_local_movie_database(filepath='Movie_Data_File.csv'):\n",
        "    df = pd.read_csv(filepath)\n",
        "    df = df.rename(columns={\n",
        "        'Film_title':'title',\n",
        "        'Genres':'genres',\n",
        "        'Average_rating':'rating'})\n",
        "    df['genres'] = df['genres'].fillna('[]')\n",
        "    df['genres'] = df['genres'].apply(lambda s: ast.literal_eval(s) if isinstance(s,str) else [])\n",
        "    return df[['title','genres','rating']]\n"
      ],
      "metadata": {
        "id": "ty3DnGUpeMBW"
      },
      "execution_count": null,
      "outputs": []
    },
    {
      "cell_type": "markdown",
      "source": [
        "#Célula 5\n",
        "Esta célula é o núcleo matemático do projeto, onde aplicamos álgebra linear na forma da equação Ax = b:\n",
        "- `A` é a matriz de gêneros (cada linha representa um filme e cada coluna, um gênero; valores binários indicam se o filme pertence a cada gênero);\n",
        "- `b` é o vetor de avaliações atribuídas pelo usuário, ponderadas com a média global do filme, para melhorar a robustez do modelo;\n",
        "- As linhas da matriz A são normalizadas para evitar que filmes com muitos gêneros tenham mais peso na equação.\n",
        "\n",
        "Este processo se alinha muito a mínimos quadrados. Tive que aplicar também, juntamente com os pesos, uma média ponderada da nota do usuário com o rating global para cada filme, sendo de 70% e 30% respectivamente, assim dando um resultado mais preciso."
      ],
      "metadata": {
        "id": "uCaRkG93_4cV"
      }
    },
    {
      "cell_type": "code",
      "source": [
        "# Célula 5: Montar A e b (corrigido com pesos e normalização)\n",
        "\n",
        "def build_matrices(user_df, movie_db_df):\n",
        "    df = pd.merge(user_df, movie_db_df, on='title', how='inner', suffixes=('_user','_global'))\n",
        "    if df.empty:\n",
        "        raise RuntimeError(\"Nenhum filme avaliado no banco local.\")\n",
        "    genres = sorted({g for lst in df['genres'] for g in lst})\n",
        "    A = np.zeros((len(df), len(genres)))\n",
        "    b = np.zeros(len(df))\n",
        "    max_rating = movie_db_df['rating'].max()\n",
        "    for i,row in enumerate(df.itertuples(index=False)):\n",
        "        for g in row.genres:\n",
        "            A[i, genres.index(g)] = 1\n",
        "        norm = np.linalg.norm(A[i]) or 1\n",
        "        A[i] /= norm  # Normaliza linha para evitar somas grandes\n",
        "        global_norm = (row.rating_global / max_rating) * 5\n",
        "        b[i] = 0.7 * row.rating_user + 0.3 * global_norm  # Peso maior na nota do usuário\n",
        "    return A,b,genres,df['title'].tolist()"
      ],
      "metadata": {
        "id": "5D45klwmhXU_"
      },
      "execution_count": null,
      "outputs": []
    },
    {
      "cell_type": "markdown",
      "source": [
        "#Célula 6\n",
        "Aqui usamos `np.linalg.lstsq()` para resolver o sistema Ax = b por mínimos quadrados da forma que minimiza o erro quadrático entre as avaliações previstas e as reais.\n",
        "O vetor `x` resultante representa os pesos do usuário para cada gênero — ou seja, o quanto ele gosta de cada um deles."
      ],
      "metadata": {
        "id": "cDWBNlX5_47x"
      }
    },
    {
      "cell_type": "code",
      "source": [
        "# Célula 6: Resolve X\n",
        "\n",
        "def solve_genre_weights(A, b):\n",
        "    lb = np.full(A.shape[1], 0.5)\n",
        "    ub = np.full(A.shape[1], 5.0)\n",
        "    res = lsq_linear(A, b, bounds=(lb, ub))\n",
        "    return res.x\n"
      ],
      "metadata": {
        "id": "AnT-RxG-ePM4"
      },
      "execution_count": null,
      "outputs": []
    },
    {
      "cell_type": "markdown",
      "source": [
        "#Célula 7\n",
        "Esta função cria um gráfico de barras que mostra os pesos (preferências) do usuário para cada gênero fornecido. Ela usa matplotlib para plotar os valores, ajustando os rótulos dos gêneros para melhor visualização. O gráfico facilita a visualização das preferências categóricas do usuário."
      ],
      "metadata": {
        "id": "xLQNgNUW_5ZB"
      }
    },
    {
      "cell_type": "code",
      "source": [
        "# Célula 7: Plot dos pesos por gênero\n",
        "\n",
        "def plot_genre_weights(genres, x):\n",
        "    plt.figure()\n",
        "    plt.bar(genres, x)\n",
        "    plt.xticks(rotation=45, ha='right')\n",
        "    plt.ylabel('Peso')\n",
        "    plt.title('Preferências do usuário por gênero')\n",
        "    plt.tight_layout()\n",
        "    plt.show()\n"
      ],
      "metadata": {
        "id": "yGqMl6DMpRGw"
      },
      "execution_count": null,
      "outputs": []
    },
    {
      "cell_type": "markdown",
      "source": [
        "#Célula 8\n",
        "Com base no vetor de pesos `x`, calculamos o quão bem cada filme não assistido combina com os gostos do usuário. O processo envolve:\n",
        "- Filtrar filmes que o usuário ainda não viu e com média global >= 4.0;\n",
        "- Criar uma matriz `M` semelhante à `A`, com gêneros dos filmes candidatos;\n",
        "- Normalizar as linhas de `M` e multiplicar por `x` para obter uma nota prevista (quanto mais alta, maior a chance do usuário gostar);\n",
        "- Ordenar os resultados e retornar os 4 melhores.\n",
        "\n",
        "Esse procedimento usa o produto escalar para medir afinidade entre vetores.\n"
      ],
      "metadata": {
        "id": "oqpZf89u_5yE"
      }
    },
    {
      "cell_type": "code",
      "source": [
        "# Célula 8: Recomendações usando raw_score definido abaixo\n",
        "\n",
        "def recommend_movies(x, genres, movie_db_df, seen, top_n=4, debug=False):\n",
        "    # Seleciona os índices dos 3 gêneros favoritos (maiores pesos)\n",
        "    top3_idx = np.argsort(x)[-3:]\n",
        "    top3_genres = [genres[i] for i in top3_idx]\n",
        "\n",
        "    # Filtra candidatos não vistos e com rating > 4\n",
        "    cand = movie_db_df[\n",
        "    (~movie_db_df['title'].isin(seen)) & (movie_db_df['rating'] >= 4.0)\n",
        "].copy().reset_index(drop=True)\n",
        "\n",
        "\n",
        "    # Matriz considerando apenas os 3 gêneros favoritos\n",
        "    M = np.zeros((len(cand), len(top3_genres)))\n",
        "\n",
        "    for i, row in enumerate(cand.itertuples(index=False)):\n",
        "        for j, g in enumerate(top3_genres):\n",
        "            if g in row.genres:\n",
        "                M[i, j] = 1\n",
        "\n",
        "    # Cálculo do raw_score: média aritmética dos pesos apenas dos 3 gêneros favoritos\n",
        "    counts = M.sum(axis=1)\n",
        "    counts[counts == 0] = 1\n",
        "    raw_scores = (M * x[top3_idx]).sum(axis=1) / counts\n",
        "\n",
        "    pred = np.clip(raw_scores, 0.5, 5.0)\n",
        "    cand['predicted'] = pred\n",
        "\n",
        "    if debug:\n",
        "        detailed = []\n",
        "        for i, title in enumerate(cand['title']):\n",
        "            active = [g for g in cand.at[i, 'genres'] if g in top3_genres]\n",
        "            detailed.append({'title': title, 'raw_score': raw_scores[i], 'genres': active})\n",
        "        debug_df = pd.DataFrame(detailed).sort_values('raw_score', ascending=False).head(top_n)\n",
        "\n",
        "        result = cand.sort_values('predicted', ascending=False).head(top_n).copy()\n",
        "    result['genres'] = result['title'].map(\n",
        "        dict(zip(movie_db_df['title'], movie_db_df['genres']))\n",
        "    )\n",
        "    result['ranking geral'] = np.arange(1, len(result) + 1)\n",
        "    return result[['ranking geral', 'title', 'genres']]\n"
      ],
      "metadata": {
        "id": "RLQx0oyheSlo"
      },
      "execution_count": null,
      "outputs": []
    },
    {
      "cell_type": "markdown",
      "source": [
        "#Célula 9\n",
        "Exibi, em formato de DataFrame, a matriz `A` com os gêneros de cada filme e a respectiva nota ponderada `b`. Isso permite:\n",
        "- Verificar quais filmes foram usados para montar a matriz;\n",
        "- Entender como cada filme contribui para a formação do perfil do usuário."
      ],
      "metadata": {
        "id": "Io512wdT_6b0"
      }
    },
    {
      "cell_type": "code",
      "source": [
        "# Célula 9: Visualização dos dados usados na equação Ax = b\n",
        "\n",
        "def show_user_data_matrix(A, b, genres, titles):\n",
        "    df = pd.DataFrame(A, columns=genres)\n",
        "    df['title'] = titles\n",
        "    df['b (nota esperada)'] = b\n",
        "    return df.sort_values(\n",
        "        'b (nota esperada)',\n",
        "        ascending=False\n",
        "    ).reset_index(drop=True)"
      ],
      "metadata": {
        "id": "lTho1pu_eVkl"
      },
      "execution_count": null,
      "outputs": []
    },
    {
      "cell_type": "markdown",
      "source": [
        "#Célula 10\n",
        "Este é o ponto de entrada do programa:\n",
        "- Solicita o nome de usuário ou ativa o modo de entrada manual;\n",
        "- Coleta as notas e os filmes assistidos;\n",
        "- Carrega o banco local e monta a matriz A e vetor b;\n",
        "- Resolve o sistema por mínimos quadrados e imprime os pesos dos gêneros;\n",
        "- Exibe os dados usados na criação do perfil e as recomendações finais.\n",
        "\n",
        "Aqui a integração de todas as partes anteriores ocorre e elas são de fato executadas."
      ],
      "metadata": {
        "id": "2cS_itAO_6-h"
      }
    },
    {
      "cell_type": "code",
      "source": [
        "# Célula 10: Main\n",
        "\n",
        "if __name__ == '__main__':\n",
        "    user = input(\"User Letterboxd (vazio -> manual): \")\n",
        "    df_user = (\n",
        "        get_user_ratings(user) if user.strip() else get_manual_ratings()\n",
        "    )\n",
        "    db = load_local_movie_database()\n",
        "    A, b, gens, seen = build_matrices(df_user, db)\n",
        "    x = solve_genre_weights(A, b)\n",
        "\n",
        "    print(\"\\nPesos:\")\n",
        "    for g, w in zip(gens, x):\n",
        "        print(f\" {g}: {w:.2f}\")\n",
        "\n",
        "    plot_genre_weights(gens, x)\n",
        "\n",
        "    print(\"\\nAlguns filmes usados para o peso e suas notas relativas:\")\n",
        "    print(\n",
        "        show_user_data_matrix(A, b, gens, seen)[\n",
        "            ['title', 'b (nota esperada)']\n",
        "        ].head(10).to_string(index=False)\n",
        "    )\n",
        "\n",
        "    recs = recommend_movies(x, gens, db, seen, debug=True)\n",
        "    print(\"🎯 Recomendações Personalizadas 🎬\\n\")\n",
        "    for _, row in recs.iterrows():\n",
        "      print(f\"🏆 #{row['ranking geral']} — {row['title']} 🎞️\")\n",
        "      print(f\"   Gêneros: {', '.join(row['genres'])}\\n\")\n",
        "\n",
        "\n"
      ],
      "metadata": {
        "id": "Da2cAF1vkpjF"
      },
      "execution_count": null,
      "outputs": []
    },
    {
      "cell_type": "markdown",
      "source": [
        "#**Considerações finais:**\n",
        "\n",
        "\n",
        "\n",
        "Minha ideia para um sistema de profiling e recomendação de filmes baseado no site Letterboxd foi inspirada no meu projeto de ALA do período 24.2, que era apenas um sistema de recomendações de filmes baseado em avaliações dadas na hora, e apesar de não ter reutilizado nenhum código do mesmo, minha ideia foi inspirada dele.\n",
        "\n",
        "Ao longo da execução do projeto fui notando que a complexidade do que eu tinha em mente era bem maior do que a esperada, principalmente devido à técnica de Web Scraping e para lidar com os dados na matriz, então tive que improvisar em diversas áreas do código em python, envolveu muita pesquisa, porém no fim consegui fazer com que tudo funcionasse corretamente.\n",
        "\n",
        "Além disso, também encontrei diversos obstáculos para escolher o dataset, a primor eu havia conseguido uma chave para uma API pública após fazer a solicitação para o site TMDb, porém os gêneros dos filmes desse dataset estavam relativamente errados, ou pelo menos forçados, por exemplo, um dos gêneros de Interestelar era Western, e sci-fi não estava na lista do mesmo, o que acabava gerando resultados muito estranhos nas recomendações, gostar de Interestelar era sinônimo de gostar de Django Livre, que são filmes bem diferentes um do outro.\n",
        "\n",
        "Depois desse dataset que considerei falho, busquei outro e acabei encontrando um da plataforma Kaggle, e que de fato parecia estar mais correto, apesar de algumas inconsistências, porém tive que mudar completamente o código da célula para utilizar nas matrizes os filmes e gêneros desse novo dataset, o que foi um trabalho bem complexo e inesperado."
      ],
      "metadata": {
        "id": "XT0k5Cns2IBU"
      }
    },
    {
      "cell_type": "markdown",
      "source": [
        "#Referências:\n",
        "\n",
        "*   Dataset utilizado: https://www.kaggle.com/datasets/ky1338/10000-movies-letterboxd-data\n",
        "\n",
        "*   Referência para o Web Scraping: https://github.com/nmcassa/letterboxdpy\n",
        "\n",
        "*   Funções desconhecidas por mim foram tiradas somente de pesquisas em diversas outras fontes variadas e vendo suas utilizações práticas, sem muito foco dado a elas."
      ],
      "metadata": {
        "id": "N7yyMVa6GrLZ"
      }
    }
  ]
}